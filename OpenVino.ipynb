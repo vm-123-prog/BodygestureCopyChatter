{
 "cells": [
  {
   "cell_type": "code",
   "execution_count": null,
   "metadata": {},
   "outputs": [],
   "source": [
    "import cv2\n",
    "import numpy as np\n",
    "from utils.opv import OpvModel\n",
    "import mediapipe as mp\n",
    "mp_drawing = mp.solutions.drawing_utils\n",
    "mp_pose = mp.solutions.pose"
   ]
  },
  {
   "cell_type": "code",
   "execution_count": null,
   "metadata": {
    "scrolled": false
   },
   "outputs": [],
   "source": [
    "mymodel = OpvModel(\"person-detection-retail-0013\", device=\"CPU\", fp=\"FP32\", debug=True)"
   ]
  },
  {
   "cell_type": "code",
   "execution_count": null,
   "metadata": {},
   "outputs": [],
   "source": [
    "def DrawBoundingBoxes(predictions, image):\n",
    "    canvas = image.copy()\n",
    "    predictions = predictions[0][0]\n",
    "    conf = 0.15\n",
    "    confidence = predictions[:,2]\n",
    "    topresults = predictions[(confidence>conf)]\n",
    "    (h,w) = canvas.shape[:2]\n",
    "    for detection in topresults:\n",
    "        box = detection[3:7] * np.array([w, h, w, h])\n",
    "        (xmin, ymin, xmax, ymax) = box.astype(\"int\")\n",
    "#         with mp_pose.Pose(min_detection_confidence=0.5, min_tracking_confidence=0.5) as pose:\n",
    "#             while True:\n",
    "#                 image = cv2.cvtColor(image, cv2.COLOR_BGR2RGB)\n",
    "#                 image.flags.writeable = False\n",
    "#                 results = pose.process(image)\n",
    "#                 image.flags.writeable = True\n",
    "#                 image = cv2.cvtColor(image, cv2.COLOR_RGB2BGR)\n",
    "#                 try:\n",
    "#                     landmarks = results.pose_landmarks.landmark\n",
    "#                 except:\n",
    "#                     pass\n",
    "#                 mp_drawing.draw_landmarks(image, results.pose_landmarks, mp_pose.POSE_CONNECTIONS,\n",
    "#                                           mp_drawing.DrawingSpec(color=(245, 117, 66), thickness=2, circle_radius=2),\n",
    "#                                           mp_drawing.DrawingSpec(color=(0, 0, 0), thickness=2, circle_radius=2)\n",
    "#                                           )\n",
    "        cv2.rectangle(canvas, (xmin, ymin), (xmax, ymax), (0,0,255), 4)\n",
    "        cv2.putText(canvas, str(round(detection[2]*100,1))+\"%\", (xmin, ymin),\n",
    "            cv2.FONT_HERSHEY_SIMPLEX, 0.6, (255,0,0),2)\n",
    "    cv2.putText(canvas, str(len(topresults))+\"persons(s) detected\", (50, 50),\n",
    "            cv2.FONT_HERSHEY_SIMPLEX, 0.6, (255,0,0),2)\n",
    "    \n",
    "    return canvas"
   ]
  },
  {
   "cell_type": "code",
   "execution_count": null,
   "metadata": {
    "scrolled": true
   },
   "outputs": [],
   "source": [
    "camera = cv2.VideoCapture(0)\n",
    "while(True):\n",
    "    ret,frame = camera.read()\n",
    "    predictions = mymodel.Predict(frame)\n",
    "    cv2.imshow(\"Electricity Saving Model\", DrawBoundingBoxes(predictions, frame))\n",
    "    with mp_pose.Pose(min_detection_confidence=0.5, min_tracking_confidence=0.5) as pose:\n",
    "            while camera.isOpened():\n",
    "                image = cv2.cvtColor(frame, cv2.COLOR_BGR2RGB)\n",
    "                image.flags.writeable = False\n",
    "                results = pose.process(image)\n",
    "                image.flags.writeable = True\n",
    "                image = cv2.cvtColor(image, cv2.COLOR_RGB2BGR)\n",
    "                try:\n",
    "                    landmarks = results.pose_landmarks.landmark\n",
    "                except:\n",
    "                    pass\n",
    "                mp_drawing.draw_landmarks(frame, results.pose_landmarks, mp_pose.POSE_CONNECTIONS,\n",
    "                                          mp_drawing.DrawingSpec(color=(245, 117, 66), thickness=2, circle_radius=2),\n",
    "                                          mp_drawing.DrawingSpec(color=(0, 0, 0), thickness=2, circle_radius=2)\n",
    "                                          )\n",
    "    if cv2.waitKey(1) & 0xFF == ord(' '):\n",
    "        break\n",
    "camera.release()\n",
    "cv2.destroyAllWindows()"
   ]
  }
 ],
 "metadata": {
  "kernelspec": {
   "display_name": "Python 3",
   "language": "python",
   "name": "python3"
  },
  "language_info": {
   "codemirror_mode": {
    "name": "ipython",
    "version": 3
   },
   "file_extension": ".py",
   "mimetype": "text/x-python",
   "name": "python",
   "nbconvert_exporter": "python",
   "pygments_lexer": "ipython3",
   "version": "3.8.5"
  }
 },
 "nbformat": 4,
 "nbformat_minor": 4
}
