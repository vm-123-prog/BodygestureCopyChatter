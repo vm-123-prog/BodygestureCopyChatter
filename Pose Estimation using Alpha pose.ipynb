{
 "cells": [
  {
   "cell_type": "code",
   "execution_count": 1,
   "id": "454c8212",
   "metadata": {},
   "outputs": [
    {
     "name": "stderr",
     "output_type": "stream",
     "text": [
      "C:\\Users\\VAAHIN\\anaconda3\\envs\\Vaahin\\lib\\site-packages\\gluoncv\\__init__.py:40: UserWarning: Both `mxnet==1.7.0` and `torch==1.9.0+cpu` are installed. You might encounter increased GPU memory footprint if both framework are used at the same time.\n",
      "  warnings.warn(f'Both `mxnet=={mx.__version__}` and `torch=={torch.__version__}` are installed. '\n"
     ]
    }
   ],
   "source": [
    "from __future__ import division\n",
    "import argparse, time, logging, os, math, tqdm, cv2\n",
    "\n",
    "import numpy as np\n",
    "import mxnet as mx\n",
    "from mxnet import gluon, nd, image\n",
    "from mxnet.gluon.data.vision import transforms\n",
    "\n",
    "import matplotlib.pyplot as plt\n",
    "\n",
    "import gluoncv as gcv\n",
    "from gluoncv import data\n",
    "from gluoncv.data import mscoco\n",
    "from gluoncv.model_zoo import get_model\n",
    "from gluoncv.data.transforms.pose import detector_to_simple_pose, heatmap_to_coord\n",
    "from gluoncv.utils.viz import cv_plot_image, cv_plot_keypoints"
   ]
  },
  {
   "cell_type": "code",
   "execution_count": 2,
   "id": "bae8938d",
   "metadata": {},
   "outputs": [
    {
     "name": "stderr",
     "output_type": "stream",
     "text": [
      "C:\\Users\\VAAHIN\\anaconda3\\envs\\Vaahin\\lib\\site-packages\\mxnet\\gluon\\block.py:1512: UserWarning: Cannot decide type for the following arguments. Consider providing them as input:\n",
      "\tdata: None\n",
      "  input_sym_arg_type = in_param.infer_type()[0]\n"
     ]
    }
   ],
   "source": [
    "ctx = mx.cpu()\n",
    "detector_name = \"ssd_512_mobilenet1.0_coco\"\n",
    "detector = get_model(detector_name, pretrained=True, ctx=ctx)"
   ]
  },
  {
   "cell_type": "code",
   "execution_count": 3,
   "id": "d20d0938",
   "metadata": {},
   "outputs": [],
   "source": [
    "detector.reset_class(classes=['person'], reuse_weights={'person':'person'})\n",
    "detector.hybridize()"
   ]
  },
  {
   "cell_type": "code",
   "execution_count": 4,
   "id": "06de54e4",
   "metadata": {},
   "outputs": [],
   "source": [
    "estimators = get_model('simple_pose_resnet18_v1b', pretrained='ccd24037', ctx=ctx)\n",
    "estimators.hybridize()"
   ]
  },
  {
   "cell_type": "code",
   "execution_count": 12,
   "id": "18570e20",
   "metadata": {},
   "outputs": [],
   "source": [
    "cap = cv2.VideoCapture(1)\n",
    "cap.set(3, 640)\n",
    "cap.set(4, 480)\n",
    "time.sleep(1)\n",
    "axes = None\n",
    "num_frames = 100\n",
    "\n",
    "for i in range(num_frames):\n",
    "    ret, frame = cap.read()\n",
    "    frame = mx.nd.array(cv2.cvtColor(frame, cv2.COLOR_BGR2RGB)).astype('uint8')\n",
    "\n",
    "    x, frame = gcv.data.transforms.presets.ssd.transform_test(frame, short=512, max_size=350)\n",
    "    x = x.as_in_context(ctx)\n",
    "    class_IDs, scores, bounding_boxs = detector(x)\n",
    "\n",
    "    pose_input, upscale_bbox = detector_to_simple_pose(frame, class_IDs, scores, bounding_boxs,\n",
    "                                                       output_shape=(128, 96), ctx=ctx)\n",
    "    if len(upscale_bbox) > 0:\n",
    "        predicted_heatmap = estimators(pose_input)\n",
    "        pred_coords, confidence = heatmap_to_coord(predicted_heatmap, upscale_bbox)\n",
    "\n",
    "        img = cv_plot_keypoints(frame, pred_coords, confidence, class_IDs, bounding_boxs, scores,\n",
    "                                box_thresh=0.5, keypoint_thresh=0.2)\n",
    "        \n",
    "        img = cv2.resize(img,(640,480))\n",
    "        img = cv2.cvtColor(img,cv2.COLOR_BGR2RGB)\n",
    "#     cv_plot_image(img)\n",
    "    cv2.imshow('Multi-Person',img)\n",
    "    if cv2.waitKey(1) == 27:\n",
    "        break\n",
    "cap.release()\n",
    "cv2.destroyAllWindows()"
   ]
  }
 ],
 "metadata": {
  "kernelspec": {
   "display_name": "Vaahin",
   "language": "python",
   "name": "vaahin"
  },
  "language_info": {
   "codemirror_mode": {
    "name": "ipython",
    "version": 3
   },
   "file_extension": ".py",
   "mimetype": "text/x-python",
   "name": "python",
   "nbconvert_exporter": "python",
   "pygments_lexer": "ipython3",
   "version": "3.7.11"
  }
 },
 "nbformat": 4,
 "nbformat_minor": 5
}
